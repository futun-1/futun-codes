{
 "cells": [
  {
   "cell_type": "markdown",
   "id": "52a81314",
   "metadata": {},
   "source": [
    "# Data Science Tools and Ecosystem"
   ]
  },
  {
   "cell_type": "markdown",
   "id": "1845070e",
   "metadata": {},
   "source": [
    "In this notebook, I will applied what I learned about Jupyter through Data Scince Tools course"
   ]
  },
  {
   "cell_type": "markdown",
   "id": "e1630fb6",
   "metadata": {},
   "source": [
    "**Objectives:**\n",
    "* List some of the popular languages that Data Scientists use\n",
    "* List commonly libraries used by Data Scientists\n",
    "* List some Data scince's tools\n",
    "* Solve some mathmatic Examples by using Python\n",
    "\n"
   ]
  },
  {
   "cell_type": "markdown",
   "id": "92b3dbd2",
   "metadata": {},
   "source": [
    "Some of the popular languages that Data Scientists use are:\n",
    "1. Python\n",
    "2. R\n",
    "3. Julia"
   ]
  },
  {
   "cell_type": "markdown",
   "id": "cc86817d",
   "metadata": {},
   "source": [
    "Some of the commonly libraries used by Data Scientists include:\n",
    "1. Numpy\n",
    "2. Pandas\n",
    "3. TensorFlow\n",
    "4. SciPy\n",
    "5. Scikit-learn"
   ]
  },
  {
   "cell_type": "markdown",
   "id": "a49b3063",
   "metadata": {},
   "source": [
    "| Data Science Tools | \n",
    "|:------|\n",
    "|RStudio  |\n",
    "|Apache Spark|\n",
    "|Apache Hadoop|"
   ]
  },
  {
   "cell_type": "markdown",
   "id": "2c551633",
   "metadata": {},
   "source": [
    "### Solve arithmetic expressions examples in Python"
   ]
  },
  {
   "cell_type": "code",
   "execution_count": 1,
   "id": "ab6750c5",
   "metadata": {},
   "outputs": [
    {
     "data": {
      "text/plain": [
       "17"
      ]
     },
     "execution_count": 1,
     "metadata": {},
     "output_type": "execute_result"
    }
   ],
   "source": [
    "#Example for mutiply then add integers\n",
    "(3*4)+5"
   ]
  },
  {
   "cell_type": "code",
   "execution_count": 3,
   "id": "6cf10dee",
   "metadata": {},
   "outputs": [
    {
     "data": {
      "text/plain": [
       "3.3333333333333335"
      ]
     },
     "execution_count": 3,
     "metadata": {},
     "output_type": "execute_result"
    }
   ],
   "source": [
    "#Example for convert 200 minutes to hours :\n",
    "200/60"
   ]
  },
  {
   "cell_type": "markdown",
   "id": "055114ea",
   "metadata": {},
   "source": [
    "## Author:\n",
    "Futun Althobaiti"
   ]
  }
 ],
 "metadata": {
  "kernelspec": {
   "display_name": "Python 3 (ipykernel)",
   "language": "python",
   "name": "python3"
  },
  "language_info": {
   "codemirror_mode": {
    "name": "ipython",
    "version": 3
   },
   "file_extension": ".py",
   "mimetype": "text/x-python",
   "name": "python",
   "nbconvert_exporter": "python",
   "pygments_lexer": "ipython3",
   "version": "3.9.12"
  }
 },
 "nbformat": 4,
 "nbformat_minor": 5
}
